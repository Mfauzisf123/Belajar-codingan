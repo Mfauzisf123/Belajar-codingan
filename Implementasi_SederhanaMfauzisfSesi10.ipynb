{
  "nbformat": 4,
  "nbformat_minor": 0,
  "metadata": {
    "colab": {
      "provenance": []
    },
    "kernelspec": {
      "name": "python3",
      "display_name": "Python 3"
    },
    "language_info": {
      "name": "python"
    }
  },
  "cells": [
    {
      "cell_type": "code",
      "execution_count": 1,
      "metadata": {
        "id": "tP_41rfp7Dh8"
      },
      "outputs": [],
      "source": [
        "import random\n",
        "\n",
        "# Data contoh\n",
        "teachers = ['Guru A', 'Guru B', 'Guru C']\n",
        "subjects = ['Matematika', 'Fisika', 'Kimia']\n",
        "classes = ['Kelas 1', 'Kelas 2', 'Kelas 3']\n",
        "timeslots = ['Senin P1', 'Senin P2', 'Selasa P1', 'Selasa P2']\n"
      ]
    },
    {
      "cell_type": "code",
      "source": [
        "# Representasi kromosom: [guru, mata pelajaran, kelas, waktu]\n",
        "def create_individual():\n",
        "    return [\n",
        "        random.choice(teachers),\n",
        "        random.choice(subjects),\n",
        "        random.choice(classes),\n",
        "        random.choice(timeslots)\n",
        "    ]\n"
      ],
      "metadata": {
        "id": "H3DqRvDB7Xvz"
      },
      "execution_count": 2,
      "outputs": []
    },
    {
      "cell_type": "code",
      "source": [
        "# Fungsi fitness: menghitung jumlah bentrok jadwal\n",
        "def fitness(individual, schedule):\n",
        "    conflicts = 0\n",
        "    for i in range(len(schedule)):\n",
        "        for j in range(i + 1, len(schedule)):\n",
        "            if individual[2] == schedule[i][2] and individual[3] == schedule[i][3]:\n",
        "                conflicts += 1\n",
        "    return conflicts\n"
      ],
      "metadata": {
        "id": "srViwNHo7Z9-"
      },
      "execution_count": 3,
      "outputs": []
    },
    {
      "cell_type": "code",
      "source": [
        "# Seleksi: memilih dua individu berdasarkan fitness terbaik\n",
        "def selection(population, schedule):\n",
        "    sorted_population = sorted(population, key=lambda ind: fitness(ind, schedule))\n",
        "    return sorted_population[:2]\n"
      ],
      "metadata": {
        "id": "V8YgRdPv7chS"
      },
      "execution_count": 4,
      "outputs": []
    },
    {
      "cell_type": "code",
      "source": [
        "# Crossover: pertukaran informasi antara dua individu\n",
        "def crossover(parent1, parent2):\n",
        "    crossover_point = random.randint(1, 3)\n",
        "    child1 = parent1[:crossover_point] + parent2[crossover_point:]\n",
        "    child2 = parent2[:crossover_point] + parent1[crossover_point:]\n",
        "    return child1, child2\n"
      ],
      "metadata": {
        "id": "6D0czFTc7ezt"
      },
      "execution_count": 5,
      "outputs": []
    },
    {
      "cell_type": "code",
      "source": [
        "\n",
        "# Mutasi: perubahan acak pada individu\n",
        "def mutate(individual):\n",
        "    mutation_point = random.randint(0, 3)\n",
        "    if mutation_point == 0:\n",
        "        individual[mutation_point] = random.choice(teachers)\n",
        "    elif mutation_point == 1:\n",
        "        individual[mutation_point] = random.choice(subjects)\n",
        "    elif mutation_point == 2:\n",
        "        individual[mutation_point] = random.choice(classes)\n",
        "    else:\n",
        "        individual[mutation_point] = random.choice(timeslots)\n",
        "    return individual\n"
      ],
      "metadata": {
        "id": "V2c02Ab67hqt"
      },
      "execution_count": 6,
      "outputs": []
    },
    {
      "cell_type": "code",
      "source": [
        "\n",
        "# Algoritma Genetika utama\n",
        "def genetic_algorithm():\n",
        "    population_size = 10\n",
        "    generations = 50\n",
        "    population = [create_individual() for _ in range(population_size)]\n",
        "    schedule = []\n",
        "\n",
        "    for generation in range(generations):\n",
        "        new_population = []\n",
        "        for _ in range(population_size // 2):\n",
        "            parent1, parent2 = selection(population, schedule)\n",
        "            child1, child2 = crossover(parent1, parent2)\n",
        "            new_population.extend([mutate(child1), mutate(child2)])\n",
        "        population = new_population\n",
        "        best_individual = min(population, key=lambda ind: fitness(ind, schedule))\n",
        "        schedule.append(best_individual)\n",
        "        print(f\"Generasi {generation + 1}: {best_individual} | Fitness: {fitness(best_individual, schedule)}\")\n",
        "\n",
        "    print(\"\\nJadwal Akhir:\")\n",
        "    for ind in schedule:\n",
        "        print(f\"{ind[2]} - {ind[1]} oleh {ind[0]} pada {ind[3]}\")\n",
        "\n",
        "# Jalankan algoritma\n",
        "genetic_algorithm()\n"
      ],
      "metadata": {
        "colab": {
          "base_uri": "https://localhost:8080/"
        },
        "id": "es-ielnM7q8T",
        "outputId": "5871e682-9d25-4973-e238-41999761f5f7"
      },
      "execution_count": 7,
      "outputs": [
        {
          "output_type": "stream",
          "name": "stdout",
          "text": [
            "Generasi 1: ['Guru B', 'Matematika', 'Kelas 1', 'Senin P1'] | Fitness: 0\n",
            "Generasi 2: ['Guru B', 'Fisika', 'Kelas 3', 'Senin P2'] | Fitness: 0\n",
            "Generasi 3: ['Guru B', 'Fisika', 'Kelas 3', 'Selasa P1'] | Fitness: 0\n",
            "Generasi 4: ['Guru B', 'Fisika', 'Kelas 1', 'Selasa P2'] | Fitness: 0\n",
            "Generasi 5: ['Guru B', 'Fisika', 'Kelas 3', 'Selasa P2'] | Fitness: 0\n",
            "Generasi 6: ['Guru B', 'Fisika', 'Kelas 3', 'Selasa P2'] | Fitness: 1\n",
            "Generasi 7: ['Guru C', 'Fisika', 'Kelas 3', 'Selasa P2'] | Fitness: 3\n",
            "Generasi 8: ['Guru C', 'Fisika', 'Kelas 3', 'Selasa P2'] | Fitness: 6\n",
            "Generasi 9: ['Guru C', 'Fisika', 'Kelas 1', 'Selasa P1'] | Fitness: 0\n",
            "Generasi 10: ['Guru A', 'Fisika', 'Kelas 1', 'Selasa P1'] | Fitness: 1\n",
            "Generasi 11: ['Guru A', 'Matematika', 'Kelas 2', 'Selasa P1'] | Fitness: 0\n",
            "Generasi 12: ['Guru A', 'Matematika', 'Kelas 2', 'Selasa P1'] | Fitness: 1\n",
            "Generasi 13: ['Guru B', 'Matematika', 'Kelas 2', 'Senin P1'] | Fitness: 0\n",
            "Generasi 14: ['Guru B', 'Fisika', 'Kelas 2', 'Senin P1'] | Fitness: 1\n",
            "Generasi 15: ['Guru A', 'Matematika', 'Kelas 2', 'Selasa P2'] | Fitness: 0\n",
            "Generasi 16: ['Guru A', 'Matematika', 'Kelas 2', 'Selasa P2'] | Fitness: 1\n",
            "Generasi 17: ['Guru A', 'Fisika', 'Kelas 2', 'Senin P2'] | Fitness: 0\n",
            "Generasi 18: ['Guru A', 'Fisika', 'Kelas 2', 'Senin P2'] | Fitness: 1\n",
            "Generasi 19: ['Guru B', 'Kimia', 'Kelas 1', 'Senin P2'] | Fitness: 0\n",
            "Generasi 20: ['Guru B', 'Fisika', 'Kelas 1', 'Senin P2'] | Fitness: 1\n",
            "Generasi 21: ['Guru A', 'Kimia', 'Kelas 1', 'Senin P2'] | Fitness: 3\n",
            "Generasi 22: ['Guru B', 'Fisika', 'Kelas 1', 'Senin P2'] | Fitness: 6\n",
            "Generasi 23: ['Guru B', 'Fisika', 'Kelas 1', 'Senin P2'] | Fitness: 10\n",
            "Generasi 24: ['Guru B', 'Fisika', 'Kelas 1', 'Senin P2'] | Fitness: 15\n",
            "Generasi 25: ['Guru B', 'Fisika', 'Kelas 2', 'Senin P2'] | Fitness: 15\n",
            "Generasi 26: ['Guru B', 'Fisika', 'Kelas 2', 'Senin P2'] | Fitness: 18\n",
            "Generasi 27: ['Guru B', 'Fisika', 'Kelas 2', 'Senin P2'] | Fitness: 22\n",
            "Generasi 28: ['Guru A', 'Matematika', 'Kelas 2', 'Senin P2'] | Fitness: 27\n",
            "Generasi 29: ['Guru C', 'Fisika', 'Kelas 3', 'Senin P1'] | Fitness: 0\n",
            "Generasi 30: ['Guru C', 'Matematika', 'Kelas 3', 'Senin P1'] | Fitness: 1\n",
            "Generasi 31: ['Guru C', 'Kimia', 'Kelas 3', 'Senin P1'] | Fitness: 3\n",
            "Generasi 32: ['Guru C', 'Matematika', 'Kelas 3', 'Senin P1'] | Fitness: 6\n",
            "Generasi 33: ['Guru C', 'Matematika', 'Kelas 3', 'Senin P1'] | Fitness: 10\n",
            "Generasi 34: ['Guru C', 'Matematika', 'Kelas 3', 'Senin P1'] | Fitness: 15\n",
            "Generasi 35: ['Guru C', 'Fisika', 'Kelas 3', 'Senin P1'] | Fitness: 21\n",
            "Generasi 36: ['Guru B', 'Fisika', 'Kelas 3', 'Senin P1'] | Fitness: 28\n",
            "Generasi 37: ['Guru B', 'Fisika', 'Kelas 3', 'Senin P1'] | Fitness: 36\n",
            "Generasi 38: ['Guru B', 'Fisika', 'Kelas 3', 'Senin P2'] | Fitness: 36\n",
            "Generasi 39: ['Guru C', 'Kimia', 'Kelas 3', 'Senin P2'] | Fitness: 38\n",
            "Generasi 40: ['Guru B', 'Matematika', 'Kelas 3', 'Senin P2'] | Fitness: 41\n",
            "Generasi 41: ['Guru B', 'Kimia', 'Kelas 3', 'Senin P2'] | Fitness: 45\n",
            "Generasi 42: ['Guru C', 'Matematika', 'Kelas 3', 'Senin P2'] | Fitness: 50\n",
            "Generasi 43: ['Guru B', 'Matematika', 'Kelas 3', 'Senin P2'] | Fitness: 56\n",
            "Generasi 44: ['Guru C', 'Matematika', 'Kelas 3', 'Selasa P1'] | Fitness: 41\n",
            "Generasi 45: ['Guru C', 'Matematika', 'Kelas 3', 'Selasa P1'] | Fitness: 43\n",
            "Generasi 46: ['Guru C', 'Kimia', 'Kelas 3', 'Selasa P1'] | Fitness: 46\n",
            "Generasi 47: ['Guru C', 'Fisika', 'Kelas 3', 'Selasa P1'] | Fitness: 50\n",
            "Generasi 48: ['Guru C', 'Fisika', 'Kelas 3', 'Selasa P1'] | Fitness: 55\n",
            "Generasi 49: ['Guru B', 'Fisika', 'Kelas 3', 'Selasa P1'] | Fitness: 61\n",
            "Generasi 50: ['Guru B', 'Kimia', 'Kelas 3', 'Selasa P1'] | Fitness: 68\n",
            "\n",
            "Jadwal Akhir:\n",
            "Kelas 1 - Matematika oleh Guru B pada Senin P1\n",
            "Kelas 3 - Fisika oleh Guru B pada Senin P2\n",
            "Kelas 3 - Fisika oleh Guru B pada Selasa P1\n",
            "Kelas 1 - Fisika oleh Guru B pada Selasa P2\n",
            "Kelas 3 - Fisika oleh Guru B pada Selasa P2\n",
            "Kelas 3 - Fisika oleh Guru B pada Selasa P2\n",
            "Kelas 3 - Fisika oleh Guru C pada Selasa P2\n",
            "Kelas 3 - Fisika oleh Guru C pada Selasa P2\n",
            "Kelas 1 - Fisika oleh Guru C pada Selasa P1\n",
            "Kelas 1 - Fisika oleh Guru A pada Selasa P1\n",
            "Kelas 2 - Matematika oleh Guru A pada Selasa P1\n",
            "Kelas 2 - Matematika oleh Guru A pada Selasa P1\n",
            "Kelas 2 - Matematika oleh Guru B pada Senin P1\n",
            "Kelas 2 - Fisika oleh Guru B pada Senin P1\n",
            "Kelas 2 - Matematika oleh Guru A pada Selasa P2\n",
            "Kelas 2 - Matematika oleh Guru A pada Selasa P2\n",
            "Kelas 2 - Fisika oleh Guru A pada Senin P2\n",
            "Kelas 2 - Fisika oleh Guru A pada Senin P2\n",
            "Kelas 1 - Kimia oleh Guru B pada Senin P2\n",
            "Kelas 1 - Fisika oleh Guru B pada Senin P2\n",
            "Kelas 1 - Kimia oleh Guru A pada Senin P2\n",
            "Kelas 1 - Fisika oleh Guru B pada Senin P2\n",
            "Kelas 1 - Fisika oleh Guru B pada Senin P2\n",
            "Kelas 1 - Fisika oleh Guru B pada Senin P2\n",
            "Kelas 2 - Fisika oleh Guru B pada Senin P2\n",
            "Kelas 2 - Fisika oleh Guru B pada Senin P2\n",
            "Kelas 2 - Fisika oleh Guru B pada Senin P2\n",
            "Kelas 2 - Matematika oleh Guru A pada Senin P2\n",
            "Kelas 3 - Fisika oleh Guru C pada Senin P1\n",
            "Kelas 3 - Matematika oleh Guru C pada Senin P1\n",
            "Kelas 3 - Kimia oleh Guru C pada Senin P1\n",
            "Kelas 3 - Matematika oleh Guru C pada Senin P1\n",
            "Kelas 3 - Matematika oleh Guru C pada Senin P1\n",
            "Kelas 3 - Matematika oleh Guru C pada Senin P1\n",
            "Kelas 3 - Fisika oleh Guru C pada Senin P1\n",
            "Kelas 3 - Fisika oleh Guru B pada Senin P1\n",
            "Kelas 3 - Fisika oleh Guru B pada Senin P1\n",
            "Kelas 3 - Fisika oleh Guru B pada Senin P2\n",
            "Kelas 3 - Kimia oleh Guru C pada Senin P2\n",
            "Kelas 3 - Matematika oleh Guru B pada Senin P2\n",
            "Kelas 3 - Kimia oleh Guru B pada Senin P2\n",
            "Kelas 3 - Matematika oleh Guru C pada Senin P2\n",
            "Kelas 3 - Matematika oleh Guru B pada Senin P2\n",
            "Kelas 3 - Matematika oleh Guru C pada Selasa P1\n",
            "Kelas 3 - Matematika oleh Guru C pada Selasa P1\n",
            "Kelas 3 - Kimia oleh Guru C pada Selasa P1\n",
            "Kelas 3 - Fisika oleh Guru C pada Selasa P1\n",
            "Kelas 3 - Fisika oleh Guru C pada Selasa P1\n",
            "Kelas 3 - Fisika oleh Guru B pada Selasa P1\n",
            "Kelas 3 - Kimia oleh Guru B pada Selasa P1\n"
          ]
        }
      ]
    }
  ]
}